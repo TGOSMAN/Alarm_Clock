{
 "cells": [
  {
   "cell_type": "code",
   "execution_count": 1,
   "metadata": {},
   "outputs": [],
   "source": [
    "import numpy as np\n",
    "import matplotlib.pyplot as plt \n",
    "import scipy.fft as fft\n",
    "import scipy.signal as signal"
   ]
  },
  {
   "cell_type": "markdown",
   "metadata": {},
   "source": [
    "# Alarm Clock Design Report"
   ]
  },
  {
   "cell_type": "markdown",
   "metadata": {},
   "source": [
    "After beign in desperate need of an alarm clock and refusing to pay the obsurd prices for just a small screen and a loud buzzer, I decided to take on the challenge myself. \n",
    "### Product Summary\n",
    "\n",
    "*** \n"
   ]
  },
  {
   "cell_type": "markdown",
   "metadata": {},
   "source": [
    "## Product Planning\n",
    "\n",
    "\n",
    "### Requirements Analysis\n",
    "\n",
    "|Requirements|Constraints|Needs|\n",
    "|:-:|:-:|:-:|\n",
    "|Must be a sudden wake-up with an SPL of 80db/m from 1m away|Can only be powered from a DC source or battery| Multiple Alarms on the Same Day|\n",
    "|Must have time adjusted at most once per year| Maximum Voltage of 5V can be Supplied| A modern design that preferably has a screen|\n",
    "|Interface to be without a pressure button, because pressing it from a far is annoying|Cost to build must be under $50|Lights and Displays must be dimmable or automatically dim based on the time|\n",
    "\n",
    "### Problem Statement\n",
    "\n",
    "\n",
    "***"
   ]
  },
  {
   "cell_type": "markdown",
   "metadata": {},
   "source": [
    "## High Level Design\n",
    "\n",
    "### Product Concept\n",
    "\n",
    "\n",
    "\n",
    "### Desgin Concept\n",
    "\n",
    "\n",
    "<center><image src=\"HLD.png\" width=50%></image></center>\n",
    "\n",
    "### Research For Implementation\n",
    "\n",
    "\n",
    "***\n"
   ]
  },
  {
   "cell_type": "markdown",
   "metadata": {},
   "source": [
    "## Hardware Design\n",
    "\n",
    "### Touch Sense Control\n",
    ">#### Design\n",
    "\n",
    "\n",
    ">#### Testing and Adjustments\n",
    "\n",
    "\n",
    "### Buzzer Interface\n",
    "\n",
    ">#### Design\n",
    "\n",
    "\n",
    ">#### Testing and Adjustments\n",
    "\n",
    "\n",
    "\n",
    "### LCD Interface\n",
    "\n",
    ">#### Design\n",
    "\n",
    "\n",
    ">#### Testing and Adjustments\n",
    "\n",
    "\n",
    "\n",
    "\n",
    "***"
   ]
  },
  {
   "cell_type": "markdown",
   "metadata": {},
   "source": [
    "## Firmware Design\n",
    "\n",
    "\n",
    "### Time Keeping\n",
    "\n",
    "### LCD Interface\n",
    "\n",
    "### Touch Sense Control\n",
    "\n",
    "\n",
    "\n",
    "\n"
   ]
  }
 ],
 "metadata": {
  "kernelspec": {
   "display_name": "Python 3",
   "language": "python",
   "name": "python3"
  },
  "language_info": {
   "codemirror_mode": {
    "name": "ipython",
    "version": 3
   },
   "file_extension": ".py",
   "mimetype": "text/x-python",
   "name": "python",
   "nbconvert_exporter": "python",
   "pygments_lexer": "ipython3",
   "version": "3.11.9"
  }
 },
 "nbformat": 4,
 "nbformat_minor": 2
}
